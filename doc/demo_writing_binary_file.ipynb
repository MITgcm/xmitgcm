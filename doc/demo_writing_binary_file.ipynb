{
 "cells": [
  {
   "cell_type": "markdown",
   "metadata": {},
   "source": [
    "# Use case: writing a binary input file for MITgcm"
   ]
  },
  {
   "cell_type": "markdown",
   "metadata": {},
   "source": [
    "You may want to write binary files to create forcing data, initial condition,... for your MITgcm configuration. Here we show how xmitgcm can help."
   ]
  },
  {
   "cell_type": "markdown",
   "metadata": {},
   "source": [
    "## Simple case: a regular grid"
   ]
  },
  {
   "cell_type": "code",
   "execution_count": 1,
   "metadata": {},
   "outputs": [],
   "source": [
    "import numpy as np\n",
    "import xmitgcm\n",
    "import matplotlib.pylab as plt"
   ]
  },
  {
   "cell_type": "markdown",
   "metadata": {},
   "source": [
    "Let's build a regular lat/lon grid with one degree resolution and create a pseudo-field on this regular grid:"
   ]
  },
  {
   "cell_type": "code",
   "execution_count": 2,
   "metadata": {},
   "outputs": [],
   "source": [
    "lon = np.arange(-180,180,1)\n",
    "lat = np.arange(-90,90,1)\n",
    "\n",
    "lon2, lat2 = np.meshgrid(lon,lat)\n",
    "\n",
    "pseudo = np.cos(2*np.pi*lat2/360) * np.cos(4*np.pi*np.pi*lon2*lon2/360/360)"
   ]
  },
  {
   "cell_type": "code",
   "execution_count": 3,
   "metadata": {},
   "outputs": [
    {
     "data": {
      "text/plain": [
       "<matplotlib.colorbar.Colorbar at 0x7ff5add1c668>"
      ]
     },
     "execution_count": 3,
     "metadata": {},
     "output_type": "execute_result"
    },
    {
     "data": {
      "image/png": "[encoded data removed]",
      "text/plain": [
       "<Figure size 432x288 with 2 Axes>"
      ]
     },
     "metadata": {
      "needs_background": "light"
     },
     "output_type": "display_data"
    }
   ],
   "source": [
    "plt.contourf(lon2, lat2, pseudo)\n",
    "plt.colorbar()"
   ]
  },
  {
   "cell_type": "markdown",
   "metadata": {},
   "source": [
    "We can write the field as a binary file, to be used as an input file for the model with **xmitgcm.utils.write_to_binary**. Default is single precision, but double precision can be written with corresponding numpy.dtype. Note that here we use a numpy.array but one can use xarray as well using the *DataArray.values*"
   ]
  },
  {
   "cell_type": "code",
   "execution_count": 4,
   "metadata": {},
   "outputs": [
    {
     "data": {
      "text/plain": [
       "\u001b[0;31mSignature:\u001b[0m \u001b[0mxmitgcm\u001b[0m\u001b[0;34m.\u001b[0m\u001b[0mutils\u001b[0m\u001b[0;34m.\u001b[0m\u001b[0mwrite_to_binary\u001b[0m\u001b[0;34m(\u001b[0m\u001b[0mflatdata\u001b[0m\u001b[0;34m,\u001b[0m \u001b[0mfileout\u001b[0m\u001b[0;34m,\u001b[0m \u001b[0mdtype\u001b[0m\u001b[0;34m=\u001b[0m\u001b[0mdtype\u001b[0m\u001b[0;34m(\u001b[0m\u001b[0;34m'float32'\u001b[0m\u001b[0;34m)\u001b[0m\u001b[0;34m)\u001b[0m\u001b[0;34m\u001b[0m\u001b[0;34m\u001b[0m\u001b[0m\n",
       "\u001b[0;31mDocstring:\u001b[0m\n",
       "write data in binary file\n",
       "\n",
       "PARAMETERS:\n",
       "\n",
       "flatdata: numpy.array\n",
       "    vector of data to write\n",
       "fileout: str\n",
       "    output file name\n",
       "dtype: np.dtype\n",
       "    single/double precision\n",
       "\u001b[0;31mFile:\u001b[0m      ~/.conda/envs/production2/lib/python3.6/site-packages/xmitgcm-0.2.2-py3.6.egg/xmitgcm/utils.py\n",
       "\u001b[0;31mType:\u001b[0m      function\n"
      ]
     },
     "metadata": {},
     "output_type": "display_data"
    }
   ],
   "source": [
    "xmitgcm.utils.write_to_binary?"
   ]
  },
  {
   "cell_type": "code",
   "execution_count": 5,
   "metadata": {},
   "outputs": [],
   "source": [
    "xmitgcm.utils.write_to_binary(pseudo.flatten(), 'file1.bin')"
   ]
  },
  {
   "cell_type": "markdown",
   "metadata": {},
   "source": [
    "## More complicated case: a LLC grid"
   ]
  },
  {
   "cell_type": "markdown",
   "metadata": {},
   "source": [
    "In this case, let's assume we have a xarray dataarray or dataset well formatted on the llc grid. This dataset can be the result of a regridding onto the LLC grid that we want to use as an initial condition for the model (for example). We need to generate the binary file that MITgcm can read. Here's what we can do:"
   ]
  },
  {
   "cell_type": "code",
   "execution_count": 6,
   "metadata": {},
   "outputs": [
    {
     "name": "stdout",
     "output_type": "stream",
     "text": [
      "--2019-05-01 21:16:09--  https://ndownloader.figshare.com/files/14066567\n",
      "Resolving ndownloader.figshare.com (ndownloader.figshare.com)... 52.48.232.64, 63.32.41.137, 54.229.125.140, ...\n",
      "Connecting to ndownloader.figshare.com (ndownloader.figshare.com)|52.48.232.64|:443... connected.\n",
      "HTTP request sent, awaiting response... 302 Found\n",
      "Location: https://s3-eu-west-1.amazonaws.com/pfigshare-u-files/14066567/global_oce_llc90.tar.gz [following]\n",
      "--2019-05-01 21:16:09--  https://s3-eu-west-1.amazonaws.com/pfigshare-u-files/14066567/global_oce_llc90.tar.gz\n",
      "Resolving s3-eu-west-1.amazonaws.com (s3-eu-west-1.amazonaws.com)... 52.218.36.2\n",
      "Connecting to s3-eu-west-1.amazonaws.com (s3-eu-west-1.amazonaws.com)|52.218.36.2|:443... connected.\n",
      "HTTP request sent, awaiting response... 200 OK\n",
      "Length: 84966646 (81M) [application/gzip]\n",
      "Saving to: ‘14066567.1’\n",
      "\n",
      "100%[======================================>] 84,966,646  12.9MB/s   in 6.6s   \n",
      "\n",
      "2019-05-01 21:16:16 (12.3 MB/s) - ‘14066567.1’ saved [84966646/84966646]\n",
      "\n"
     ]
    }
   ],
   "source": [
    "# First let's download a sample dataset\n",
    "! wget https://ndownloader.figshare.com/files/14066567\n",
    "! tar -xf 14066567"
   ]
  },
  {
   "cell_type": "markdown",
   "metadata": {},
   "source": [
    "We can load this dataset with xmitgcm:"
   ]
  },
  {
   "cell_type": "code",
   "execution_count": 7,
   "metadata": {},
   "outputs": [],
   "source": [
    "extra_metadata = xmitgcm.utils.get_extra_metadata(domain='llc', nx=90)\n",
    "\n",
    "ds = xmitgcm.open_mdsdataset('./global_oce_llc90/', iters= [8], geometry='llc', extra_metadata=extra_metadata)"
   ]
  },
  {
   "cell_type": "code",
   "execution_count": 8,
   "metadata": {},
   "outputs": [
    {
     "data": {
      "text/plain": [
       "<xarray.Dataset>\n",
       "Dimensions:   (face: 13, i: 90, i_g: 90, j: 90, j_g: 90, k: 50, k_l: 50, k_p1: 51, k_u: 50, time: 1)\n",
       "Coordinates:\n",
       "  * i         (i) int64 0 1 2 3 4 5 6 7 8 9 10 ... 80 81 82 83 84 85 86 87 88 89\n",
       "  * i_g       (i_g) int64 0 1 2 3 4 5 6 7 8 9 ... 80 81 82 83 84 85 86 87 88 89\n",
       "  * j         (j) int64 0 1 2 3 4 5 6 7 8 9 10 ... 80 81 82 83 84 85 86 87 88 89\n",
       "  * j_g       (j_g) int64 0 1 2 3 4 5 6 7 8 9 ... 80 81 82 83 84 85 86 87 88 89\n",
       "  * k         (k) int64 0 1 2 3 4 5 6 7 8 9 10 ... 40 41 42 43 44 45 46 47 48 49\n",
       "  * k_u       (k_u) int64 0 1 2 3 4 5 6 7 8 9 ... 40 41 42 43 44 45 46 47 48 49\n",
       "  * k_l       (k_l) int64 0 1 2 3 4 5 6 7 8 9 ... 40 41 42 43 44 45 46 47 48 49\n",
       "  * k_p1      (k_p1) int64 0 1 2 3 4 5 6 7 8 9 ... 41 42 43 44 45 46 47 48 49 50\n",
       "  * face      (face) int64 0 1 2 3 4 5 6 7 8 9 10 11 12\n",
       "    iter      (time) int64 8\n",
       "  * time      (time) int64 8\n",
       "    XC        (face, j, i) >f4 dask.array<shape=(13, 90, 90), chunksize=(1, 90, 90)>\n",
       "    YC        (face, j, i) >f4 dask.array<shape=(13, 90, 90), chunksize=(1, 90, 90)>\n",
       "    XG        (face, j_g, i_g) >f4 dask.array<shape=(13, 90, 90), chunksize=(1, 90, 90)>\n",
       "    YG        (face, j_g, i_g) >f4 dask.array<shape=(13, 90, 90), chunksize=(1, 90, 90)>\n",
       "    CS        (face, j, i) >f4 dask.array<shape=(13, 90, 90), chunksize=(1, 90, 90)>\n",
       "    SN        (face, j, i) >f4 dask.array<shape=(13, 90, 90), chunksize=(1, 90, 90)>\n",
       "    Z         (k) >f4 -5.0 -15.0 -25.0 -35.0 ... -5039.25 -5461.25 -5906.25\n",
       "    Zp1       (k_p1) >f4 0.0 -10.0 -20.0 -30.0 ... -5244.5 -5678.0 -6134.5\n",
       "    Zu        (k_u) >f4 -10.0 -20.0 -30.0 -40.0 ... -5244.5 -5678.0 -6134.5\n",
       "    Zl        (k_l) >f4 0.0 -10.0 -20.0 -30.0 ... -4834.0 -5244.5 -5678.0\n",
       "    rA        (face, j, i) >f4 dask.array<shape=(13, 90, 90), chunksize=(1, 90, 90)>\n",
       "    dxG       (face, j_g, i) >f4 dask.array<shape=(13, 90, 90), chunksize=(1, 90, 90)>\n",
       "    dyG       (face, j, i_g) >f4 dask.array<shape=(13, 90, 90), chunksize=(1, 90, 90)>\n",
       "    Depth     (face, j, i) >f4 dask.array<shape=(13, 90, 90), chunksize=(1, 90, 90)>\n",
       "    rAz       (face, j_g, i_g) >f4 dask.array<shape=(13, 90, 90), chunksize=(1, 90, 90)>\n",
       "    dxC       (face, j, i_g) >f4 dask.array<shape=(13, 90, 90), chunksize=(1, 90, 90)>\n",
       "    dyC       (face, j_g, i) >f4 dask.array<shape=(13, 90, 90), chunksize=(1, 90, 90)>\n",
       "    rAw       (face, j, i_g) >f4 dask.array<shape=(13, 90, 90), chunksize=(1, 90, 90)>\n",
       "    rAs       (face, j_g, i) >f4 dask.array<shape=(13, 90, 90), chunksize=(1, 90, 90)>\n",
       "    drC       (k_p1) >f4 5.0 10.0 10.0 10.0 10.0 ... 399.0 422.0 445.0 228.25\n",
       "    drF       (k) >f4 10.0 10.0 10.0 10.0 10.0 ... 364.5 387.5 410.5 433.5 456.5\n",
       "    PHrefC    (k) >f4 49.05 147.15 245.25 ... 49435.043 53574.863 57940.312\n",
       "    PHrefF    (k_p1) >f4 0.0 98.1 196.2 294.3 ... 51448.547 55701.18 60179.445\n",
       "    hFacC     (k, face, j, i) >f4 dask.array<shape=(50, 13, 90, 90), chunksize=(1, 1, 90, 90)>\n",
       "    hFacW     (k, face, j, i_g) >f4 dask.array<shape=(50, 13, 90, 90), chunksize=(1, 1, 90, 90)>\n",
       "    hFacS     (k, face, j_g, i) >f4 dask.array<shape=(50, 13, 90, 90), chunksize=(1, 1, 90, 90)>\n",
       "    maskC     (k, face, j, i) bool dask.array<shape=(50, 13, 90, 90), chunksize=(1, 1, 90, 90)>\n",
       "    maskW     (k, face, j, i_g) bool dask.array<shape=(50, 13, 90, 90), chunksize=(1, 1, 90, 90)>\n",
       "    maskS     (k, face, j_g, i) bool dask.array<shape=(50, 13, 90, 90), chunksize=(1, 1, 90, 90)>\n",
       "Data variables:\n",
       "    W         (time, k_l, face, j, i) >f4 dask.array<shape=(1, 50, 13, 90, 90), chunksize=(1, 1, 1, 90, 90)>\n",
       "    PHL       (time, face, j, i) >f4 dask.array<shape=(1, 13, 90, 90), chunksize=(1, 1, 90, 90)>\n",
       "    PH        (time, k, face, j, i) >f4 dask.array<shape=(1, 50, 13, 90, 90), chunksize=(1, 1, 1, 90, 90)>\n",
       "    V         (time, k, face, j_g, i) >f4 dask.array<shape=(1, 50, 13, 90, 90), chunksize=(1, 1, 1, 90, 90)>\n",
       "    Eta       (time, face, j, i) >f4 dask.array<shape=(1, 13, 90, 90), chunksize=(1, 1, 90, 90)>\n",
       "    S         (time, k, face, j, i) >f4 dask.array<shape=(1, 50, 13, 90, 90), chunksize=(1, 1, 1, 90, 90)>\n",
       "    ETAN      (time, face, j, i) >f4 dask.array<shape=(1, 13, 90, 90), chunksize=(1, 1, 90, 90)>\n",
       "    SIarea    (time, face, j, i) >f4 dask.array<shape=(1, 13, 90, 90), chunksize=(1, 1, 90, 90)>\n",
       "    SIheff    (time, face, j, i) >f4 dask.array<shape=(1, 13, 90, 90), chunksize=(1, 1, 90, 90)>\n",
       "    SIhsnow   (time, face, j, i) >f4 dask.array<shape=(1, 13, 90, 90), chunksize=(1, 1, 90, 90)>\n",
       "    DETADT2   (time, face, j, i) >f4 dask.array<shape=(1, 13, 90, 90), chunksize=(1, 1, 90, 90)>\n",
       "    PHIBOT    (time, face, j, i) >f4 dask.array<shape=(1, 13, 90, 90), chunksize=(1, 1, 90, 90)>\n",
       "    sIceLoad  (time, face, j, i) >f4 dask.array<shape=(1, 13, 90, 90), chunksize=(1, 1, 90, 90)>\n",
       "    MXLDEPTH  (time, face, j, i) >f4 dask.array<shape=(1, 13, 90, 90), chunksize=(1, 1, 90, 90)>\n",
       "    oceSPDep  (time, face, j, i) >f4 dask.array<shape=(1, 13, 90, 90), chunksize=(1, 1, 90, 90)>\n",
       "    SIatmQnt  (time, face, j, i) >f4 dask.array<shape=(1, 13, 90, 90), chunksize=(1, 1, 90, 90)>\n",
       "    SIatmFW   (time, face, j, i) >f4 dask.array<shape=(1, 13, 90, 90), chunksize=(1, 1, 90, 90)>\n",
       "    oceQnet   (time, face, j, i) >f4 dask.array<shape=(1, 13, 90, 90), chunksize=(1, 1, 90, 90)>\n",
       "    oceFWflx  (time, face, j, i) >f4 dask.array<shape=(1, 13, 90, 90), chunksize=(1, 1, 90, 90)>\n",
       "    oceTAUX   (time, face, j, i_g) >f4 dask.array<shape=(1, 13, 90, 90), chunksize=(1, 1, 90, 90)>\n",
       "    oceTAUY   (time, face, j_g, i) >f4 dask.array<shape=(1, 13, 90, 90), chunksize=(1, 1, 90, 90)>\n",
       "    ADVxHEFF  (time, face, j, i_g) >f4 dask.array<shape=(1, 13, 90, 90), chunksize=(1, 1, 90, 90)>\n",
       "    ADVyHEFF  (time, face, j_g, i) >f4 dask.array<shape=(1, 13, 90, 90), chunksize=(1, 1, 90, 90)>\n",
       "    DFxEHEFF  (time, face, j, i_g) >f4 dask.array<shape=(1, 13, 90, 90), chunksize=(1, 1, 90, 90)>\n",
       "    DFyEHEFF  (time, face, j_g, i) >f4 dask.array<shape=(1, 13, 90, 90), chunksize=(1, 1, 90, 90)>\n",
       "    ADVxSNOW  (time, face, j, i_g) >f4 dask.array<shape=(1, 13, 90, 90), chunksize=(1, 1, 90, 90)>\n",
       "    ADVySNOW  (time, face, j_g, i) >f4 dask.array<shape=(1, 13, 90, 90), chunksize=(1, 1, 90, 90)>\n",
       "    DFxESNOW  (time, face, j, i_g) >f4 dask.array<shape=(1, 13, 90, 90), chunksize=(1, 1, 90, 90)>\n",
       "    DFyESNOW  (time, face, j_g, i) >f4 dask.array<shape=(1, 13, 90, 90), chunksize=(1, 1, 90, 90)>\n",
       "    SIuice    (time, face, j, i_g) >f4 dask.array<shape=(1, 13, 90, 90), chunksize=(1, 1, 90, 90)>\n",
       "    SIvice    (time, face, j_g, i) >f4 dask.array<shape=(1, 13, 90, 90), chunksize=(1, 1, 90, 90)>\n",
       "    U         (time, k, face, j, i_g) >f4 dask.array<shape=(1, 50, 13, 90, 90), chunksize=(1, 1, 1, 90, 90)>\n",
       "    T         (time, k, face, j, i) >f4 dask.array<shape=(1, 50, 13, 90, 90), chunksize=(1, 1, 1, 90, 90)>\n",
       "Attributes:\n",
       "    Conventions:  CF-1.6\n",
       "    title:        netCDF wrapper of MITgcm MDS binary data\n",
       "    source:       MITgcm\n",
       "    history:      Created by calling `open_mdsdataset(extra_metadata={'has_fa..."
      ]
     },
     "execution_count": 8,
     "metadata": {},
     "output_type": "execute_result"
    }
   ],
   "source": [
    "ds"
   ]
  },
  {
   "cell_type": "markdown",
   "metadata": {},
   "source": [
    "Now let's say we want to use the temperature T and make it the initial condition for another simulation. First we need to re-build the facets, concatenate them into the compact form that MITgcm reads/writes and then write the compact to a binary file. We would do this as follows:"
   ]
  },
  {
   "cell_type": "code",
   "execution_count": 9,
   "metadata": {},
   "outputs": [],
   "source": [
    "# temperature\n",
    "facets = xmitgcm.utils.rebuild_llc_facets(ds['T'], extra_metadata)\n",
    "compact = xmitgcm.utils.llc_facets_3d_spatial_to_compact(facets, 'Z', extra_metadata)\n",
    "xmitgcm.utils.write_to_binary(compact, 'T_initial_condition.bin')"
   ]
  },
  {
   "cell_type": "markdown",
   "metadata": {},
   "source": [
    "In this case, we already had the binary file to read from so we can compare checksums:"
   ]
  },
  {
   "cell_type": "code",
   "execution_count": 10,
   "metadata": {},
   "outputs": [
    {
     "name": "stdout",
     "output_type": "stream",
     "text": [
      "045086cc85a66aa59a713ab7d716539e  T_initial_condition.bin\n"
     ]
    }
   ],
   "source": [
    "!md5sum T_initial_condition.bin"
   ]
  },
  {
   "cell_type": "code",
   "execution_count": 11,
   "metadata": {},
   "outputs": [
    {
     "name": "stdout",
     "output_type": "stream",
     "text": [
      "045086cc85a66aa59a713ab7d716539e  ./global_oce_llc90/T.0000000008.data\n"
     ]
    }
   ],
   "source": [
    "!md5sum ./global_oce_llc90/T.0000000008.data"
   ]
  },
  {
   "cell_type": "markdown",
   "metadata": {},
   "source": [
    "The file generated is identical to the original file! A similar function exist for 2d files,..."
   ]
  }
 ],
 "metadata": {
  "kernelspec": {
   "display_name": "Python3 (production2)",
   "language": "python",
   "name": "production2"
  },
  "language_info": {
   "codemirror_mode": {
    "name": "ipython",
    "version": 3
   },
   "file_extension": ".py",
   "mimetype": "text/x-python",
   "name": "python",
   "nbconvert_exporter": "python",
   "pygments_lexer": "ipython3",
   "version": "3.6.7"
  }
 },
 "nbformat": 4,
 "nbformat_minor": 2
}
